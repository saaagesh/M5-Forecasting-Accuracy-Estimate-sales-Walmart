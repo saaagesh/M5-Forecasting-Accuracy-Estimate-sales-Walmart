{
 "cells": [
  {
   "cell_type": "markdown",
   "id": "cbb364a8-d0fa-4869-946a-5daac0582277",
   "metadata": {},
   "source": [
    "# -----Please make appropriate bucket name and project id changes before proceeding------"
   ]
  },
  {
   "cell_type": "markdown",
   "id": "e941500b-4f4f-4837-9479-69dac9064d91",
   "metadata": {},
   "source": [
    "## M5 Data Set\n",
    "Unfortunately License forbids redistribution of M5 data set so go to kaggle and download\n",
    "\n",
    "Should give you 5 files:\n",
    "\n",
    "calendar.csv - Contains information about the dates on which the products are sold.\n",
    "sales_train_validation.csv - Contains the historical daily unit sales data per product and store [d_1 - d_1913]\n",
    "sample_submission.csv - The correct format for submissions. Reference the Evaluation tab for more info.\n",
    "sell_prices.csv - Contains information about the price of the products sold per store and date.\n",
    "sales_train_evaluation.csv - Includes sales [d_1 - d_1941] (labels used for the Public leaderboard)\n",
    "# Example transfer of files to a gcs bucket.\n",
    "# Use gsutil to create bucket (note region where Vertex)\n",
    "gsutil mb -l us-central1 -p retail1-vf gs://retail1-gcp-m5-vf\n",
    "# Copy m5 files to bucket\n",
    "gsutil cp -j *.csv gs://retail1-gcp-m5-vf"
   ]
  },
  {
   "cell_type": "markdown",
   "id": "37203f79-1947-43a2-a9be-d2ea5c5da236",
   "metadata": {},
   "source": [
    "### Install Vertex AI SDK, Authenticate, and upload of a Dataset to your GCS bucket\n",
    "After the SDK installation the kernel will be automatically restarted. You may see this error message Your session crashed for an unknown reason which is normal"
   ]
  },
  {
   "cell_type": "code",
   "execution_count": null,
   "id": "951c1aaf-1753-47c0-8121-4b5e5db6f28e",
   "metadata": {},
   "outputs": [],
   "source": [
    "%%capture\n",
    "!pip3 uninstall -y google-cloud-aiplatform\n",
    "!pip3 install google-cloud-aiplatform\n",
    " \n",
    "import IPython\n",
    " \n",
    "app = IPython.Application.instance()\n",
    "app.kernel.do_shutdown(True)"
   ]
  },
  {
   "cell_type": "markdown",
   "id": "f3974c58-8298-49e8-876b-d4782850679c",
   "metadata": {},
   "source": [
    "### Enter your project and GCS bucket\n",
    "\n",
    "Enter your Project ID in the cell below. Then run the cell to make sure the Cloud SDK uses the right project for all the commands in this notebook."
   ]
  },
  {
   "cell_type": "code",
   "execution_count": null,
   "id": "fdfda022-f83d-4a13-bcf3-39127399ae5c",
   "metadata": {},
   "outputs": [],
   "source": [
    "BUCKET_NAME = \"gs://sk-forecasting/m5-kaggle-data\" \n",
    "REGION = \"us-central1\"  "
   ]
  },
  {
   "cell_type": "markdown",
   "id": "0f788502-8232-4086-9ced-c49d69d95105",
   "metadata": {},
   "source": [
    "# Initialize Vertex AI SDK\n",
    "\n",
    "Initialize the *client* for Vertex AI."
   ]
  },
  {
   "cell_type": "code",
   "execution_count": null,
   "id": "5bd1f105-bab3-40ce-b542-623c3b1857a8",
   "metadata": {},
   "outputs": [],
   "source": [
    "from google.cloud import aiplatform\n",
    "\n",
    "aiplatform.init(project=PROJECT_ID, staging_bucket=BUCKET_NAME)"
   ]
  },
  {
   "cell_type": "markdown",
   "id": "2078ca34-4f14-4b89-a76b-4fbfba25a84e",
   "metadata": {},
   "source": [
    "### Load up the sales data which is in a wide format and put it in a long format using melt() functionality in python"
   ]
  },
  {
   "cell_type": "code",
   "execution_count": null,
   "id": "e58a1586-93f2-451d-ab6a-a1338654e2dd",
   "metadata": {},
   "outputs": [],
   "source": [
    "import numpy as np\n",
    "import pandas as pd\n",
    "\n",
    "train_sales = pd.read_csv('gs://sk-forecasting/m5-kaggle-data/sales_train_evaluation.csv') "
   ]
  },
  {
   "cell_type": "code",
   "execution_count": null,
   "id": "b4a16b63-14ff-417d-af4c-c0ca6d4af0df",
   "metadata": {},
   "outputs": [],
   "source": [
    "train_sales.head(5)\n"
   ]
  },
  {
   "cell_type": "code",
   "execution_count": null,
   "id": "2180886b-ae00-4cd1-8ac0-b1026867cdeb",
   "metadata": {},
   "outputs": [],
   "source": [
    "sales = pd.melt(train_sales, \n",
    "              id_vars = ['id', 'item_id', 'dept_id', 'cat_id', 'store_id', 'state_id'], \n",
    "              var_name = 'd', \n",
    "              value_name = \"sales\")\n",
    "del train_sales # Clean up some memory"
   ]
  },
  {
   "cell_type": "code",
   "execution_count": null,
   "id": "7a3fbee2-9e8e-4de4-a9c3-892f82b4f193",
   "metadata": {},
   "outputs": [],
   "source": [
    "sales.head(5)"
   ]
  },
  {
   "cell_type": "markdown",
   "id": "179fe4aa-08bb-489f-ab26-d71ca427c3f3",
   "metadata": {},
   "source": [
    "### Create a new dataset to put the tables into"
   ]
  },
  {
   "cell_type": "code",
   "execution_count": null,
   "id": "2fad665d-3bea-4d5d-a408-a96502d2db73",
   "metadata": {},
   "outputs": [],
   "source": [
    "%%bigquery\n",
    "CREATE SCHEMA `sk-ai-ml-poc.m5_forecasting` "
   ]
  },
  {
   "cell_type": "code",
   "execution_count": null,
   "id": "03f98aa0-f3fa-4922-bec1-ca60d9e180f6",
   "metadata": {},
   "outputs": [],
   "source": [
    "sales.to_csv(\"gs://sk-forecasting/m5-kaggle-data/sales_melted.csv\", index=False) "
   ]
  },
  {
   "cell_type": "markdown",
   "id": "f3684940-d380-430f-83fb-60c0d5a64804",
   "metadata": {},
   "source": [
    "### Load up data into BigQuery for easy joining\n",
    "\n",
    "TODO: \n",
    "* Change BQ project and datasets to fit your environment\n",
    "* Change GCS locations \n",
    "\n",
    "Following cells should look like this:\n",
    "```\n",
    "!bq load --autodetect \\\n",
    "    --source_format=CSV \\\n",
    "    m5.calendar \\\n",
    "    gs://lowes-vertex-forecast-poc/kaggle-data/calendar.csv\n",
    "```"
   ]
  },
  {
   "cell_type": "code",
   "execution_count": null,
   "id": "f637b42d-c08b-46f2-a528-d680d01edc41",
   "metadata": {},
   "outputs": [],
   "source": [
    "!bq load --autodetect \\\n",
    "    --source_format=CSV \\\n",
    "    m5_forecasting.calendar \\\n",
    "    gs://sk-forecasting/m5-kaggle-data/calendar.csv"
   ]
  },
  {
   "cell_type": "code",
   "execution_count": null,
   "id": "49325e88-ccac-4092-8856-edc140c4923a",
   "metadata": {},
   "outputs": [],
   "source": [
    "!bq load --autodetect \\\n",
    "    --source_format=CSV \\\n",
    "    m5_forecasting.sell_prices \\\n",
    "    gs://sk-forecasting/m5-kaggle-data/sell_prices.csv"
   ]
  },
  {
   "cell_type": "code",
   "execution_count": null,
   "id": "0070fdef-89fe-42cd-9b86-406ca5ef12f1",
   "metadata": {},
   "outputs": [],
   "source": [
    "!bq load --autodetect \\\n",
    "    --source_format=CSV \\\n",
    "    m5_forecasting.sales_melted \\\n",
    "    gs://sk-forecasting/m5-kaggle-data/sales_melted.csv"
   ]
  },
  {
   "cell_type": "code",
   "execution_count": null,
   "id": "db275071-8224-40f2-9f14-cabdaed6e71f",
   "metadata": {},
   "outputs": [],
   "source": [
    "PROJECT_ID='sk-ai-ml-poc'  # <---CHANGE THIS\n",
    "BQ_DATASET=\"m5_forecasting\"               # <---CHANGE THIS\n",
    "\n",
    "print(PROJECT_ID)"
   ]
  },
  {
   "cell_type": "markdown",
   "id": "b003ba0c-3c8e-4910-91f7-502e88586162",
   "metadata": {},
   "source": [
    "## [1] Create Activity Tables"
   ]
  },
  {
   "cell_type": "code",
   "execution_count": null,
   "id": "1fa36c80-bad7-434e-91aa-8145cdc7eb01",
   "metadata": {},
   "outputs": [],
   "source": [
    "%%bigquery\n",
    "\n",
    " CREATE OR REPLACE TABLE sk-ai-ml-poc.m5_forecasting.activity_all AS\n",
    " SELECT sal.item_id as product_id,\n",
    "        sal.store_id as location_id,\n",
    "        sal.sales as gross_quantity,\n",
    "        cal.*,\n",
    "        price.sell_price\n",
    "   FROM `sk-ai-ml-poc.m5_forecasting.sales_melted` sal\n",
    " JOIN `sk-ai-ml-poc.m5_forecasting.calendar` cal ON sal.d = cal.d\n",
    " JOIN `sk-ai-ml-poc.m5_forecasting.sell_prices` price\n",
    "   ON (price.item_id = sal.item_id AND \n",
    "       price.store_id = sal.store_id AND \n",
    "       price.wm_yr_wk = cal.wm_yr_wk)"
   ]
  },
  {
   "cell_type": "markdown",
   "id": "956ae46a-e4f5-4da3-a5c2-c5a7d425e9f4",
   "metadata": {},
   "source": [
    "### 1.b Smaller actitivty table for testing, `actitivty_fold1`"
   ]
  },
  {
   "cell_type": "code",
   "execution_count": null,
   "id": "c69b5561-5ffd-42e3-9d40-4965cddcd496",
   "metadata": {},
   "outputs": [],
   "source": [
    " %%bigquery\n",
    " CREATE OR REPLACE TABLE sk-ai-ml-poc.m5_forecasting.activity_fold1\n",
    " AS (SELECT \n",
    "     table_a.product_id,\n",
    "     table_a.location_id,\n",
    "     table_a.gross_quantity,\n",
    "     TIMESTAMP(table_a.date) as datetime,\n",
    "     table_a.weekday,\n",
    "     table_a.wday,\n",
    "     table_a.month,\n",
    "     table_a.year,\n",
    "     table_a.event_name_1,\n",
    "     table_a.event_type_1,\n",
    "     table_a.event_name_2,\n",
    "     table_a.event_type_2,\n",
    "     table_a.snap_CA,\n",
    "     table_a.snap_TX,\n",
    "     table_a.snap_WI,\n",
    "     table_a.sell_price,\n",
    "     CASE \n",
    "         WHEN table_a.date BETWEEN '2015-01-01' AND '2016-01-17' THEN 'TRAIN'\n",
    "         WHEN table_a.date BETWEEN '2016-01-18' AND '2016-02-28' THEN 'VALIDATE'\n",
    "         WHEN table_a.date BETWEEN '2016-02-29' AND '2016-03-27' THEN 'TEST' \n",
    "     END AS ml_use\n",
    "     FROM sk-ai-ml-poc.m5_forecasting.activity_all as table_a\n",
    "     WHERE table_a.date BETWEEN '2015-01-01' AND '2016-03-27'\n",
    "     )\n",
    " ;"
   ]
  },
  {
   "cell_type": "markdown",
   "id": "d0c46973-7abc-4c7b-b7fb-a472a074d45a",
   "metadata": {},
   "source": [
    "## [2] Create Locations Table"
   ]
  },
  {
   "cell_type": "code",
   "execution_count": null,
   "id": "deafee57-0495-4836-b644-e0c8e830946c",
   "metadata": {},
   "outputs": [],
   "source": [
    " %%bigquery \n",
    " CREATE OR REPLACE TABLE sk-ai-ml-poc.m5_forecasting.locations\n",
    " AS (SELECT \n",
    "     DISTINCT store_id as location_id,\n",
    "     state_id\n",
    "     FROM sk-ai-ml-poc.m5_forecasting.sales_melted);"
   ]
  },
  {
   "cell_type": "markdown",
   "id": "ca09680b-835a-4fce-89fa-316d21dec32e",
   "metadata": {},
   "source": [
    "## [3] Create Products Table"
   ]
  },
  {
   "cell_type": "code",
   "execution_count": null,
   "id": "b62d892c-fc78-42e3-99ca-8be87064db16",
   "metadata": {},
   "outputs": [],
   "source": [
    " %%bigquery \n",
    " CREATE OR REPLACE TABLE sk-ai-ml-poc.m5_forecasting.products\n",
    " AS (SELECT \n",
    "     DISTINCT item_id as product_id,\n",
    "     dept_id,\n",
    "     cat_id\n",
    "     FROM sk-ai-ml-poc.m5_forecasting.sales_melted);"
   ]
  },
  {
   "cell_type": "markdown",
   "id": "fa814459-5673-4e42-884b-e9352df54375",
   "metadata": {},
   "source": [
    "## [4] Create Plan Table"
   ]
  },
  {
   "cell_type": "code",
   "execution_count": null,
   "id": "77db40dc-22ad-4340-9af9-1155ed751d3f",
   "metadata": {},
   "outputs": [],
   "source": [
    "%%bigquery\n",
    "CREATE OR REPLACE TABLE sk-ai-ml-poc.m5_forecasting.plan_fold1\n",
    "AS (SELECT \n",
    "    table_a.product_id,\n",
    "    table_a.location_id,\n",
    "    table_a.gross_quantity,\n",
    "    TIMESTAMP(table_a.date) as datetime,\n",
    "    table_a.weekday,\n",
    "    table_a.wday,\n",
    "    table_a.month,\n",
    "    table_a.year,\n",
    "    table_a.event_name_1,\n",
    "    table_a.event_type_1,\n",
    "    table_a.event_name_2,\n",
    "    table_a.event_type_2,\n",
    "    table_a.snap_CA,\n",
    "    table_a.snap_TX,\n",
    "    table_a.snap_WI,\n",
    "    table_a.sell_price,\n",
    "    'HOLDOUT' as ml_use\n",
    "    FROM sk-ai-ml-poc.m5_forecasting.activity_all as table_a\n",
    "    WHERE table_a.date BETWEEN '2016-03-28' AND '2016-04-24');\n",
    "    -- NULL prediction target\n",
    "    UPDATE sk-ai-ml-poc.m5_forecasting.plan_fold1\n",
    "    SET gross_quantity = NULL WHERE datetime < '2016-04-25';"
   ]
  },
  {
   "cell_type": "markdown",
   "id": "cf69051e-c29b-4f3d-bf78-e408267d6509",
   "metadata": {},
   "source": [
    "### 4.b Larger Plan Table\n"
   ]
  },
  {
   "cell_type": "code",
   "execution_count": null,
   "id": "7471679a-3d0b-4b1c-928e-c7135222a761",
   "metadata": {},
   "outputs": [],
   "source": [
    "%%bigquery\n",
    "CREATE OR REPLACE TABLE sk-ai-ml-poc.m5_forecasting.plan_table_all\n",
    "AS (SELECT \n",
    "    table_a.product_id,\n",
    "    table_a.location_id,\n",
    "    table_a.gross_quantity,\n",
    "    TIMESTAMP(table_a.date) as datetime,\n",
    "    table_a.weekday,\n",
    "    table_a.wday,\n",
    "    table_a.month,\n",
    "    table_a.year,\n",
    "    table_a.event_name_1,\n",
    "    table_a.event_type_1,\n",
    "    table_a.event_name_2,\n",
    "    table_a.event_type_2,\n",
    "    table_a.snap_CA,\n",
    "    table_a.snap_TX,\n",
    "    table_a.snap_WI,\n",
    "    table_a.sell_price,\n",
    "    FROM sk-ai-ml-poc.m5_forecasting.activity_all as table_a\n",
    "    WHERE table_a.date BETWEEN '2016-01-01' AND '2016-04-24');\n",
    "    -- NULL prediction target\n",
    "    UPDATE sk-ai-ml-poc.m5_forecasting.plan_table_all\n",
    "    SET gross_quantity = NULL WHERE datetime >= '2016-03-29';"
   ]
  },
  {
   "cell_type": "code",
   "execution_count": null,
   "id": "6424f8aa-b55f-404d-95a4-73812a038478",
   "metadata": {},
   "outputs": [],
   "source": [
    "import os\n",
    "\n",
    "PROJECT_ID = \"sk-ai-ml-poc\" "
   ]
  },
  {
   "cell_type": "markdown",
   "id": "d565dd92-4797-46e3-be1f-882a2d107efa",
   "metadata": {},
   "source": [
    "# END\n",
    "\n",
    "Now all data tables are created in your BQ environment, proceed to the [Modeling Notebook]"
   ]
  },
  {
   "cell_type": "markdown",
   "id": "253c2596-2f38-4fa8-8547-49a1cb377844",
   "metadata": {},
   "source": []
  }
 ],
 "metadata": {
  "environment": {
   "kernel": "python3",
   "name": "managed-notebooks.m87",
   "type": "gcloud",
   "uri": "gcr.io/deeplearning-platform-release/base-cu110:latest"
  },
  "kernelspec": {
   "display_name": "Python (Local)",
   "language": "python",
   "name": "local-base"
  },
  "language_info": {
   "codemirror_mode": {
    "name": "ipython",
    "version": 3
   },
   "file_extension": ".py",
   "mimetype": "text/x-python",
   "name": "python",
   "nbconvert_exporter": "python",
   "pygments_lexer": "ipython3",
   "version": "3.7.12"
  }
 },
 "nbformat": 4,
 "nbformat_minor": 5
}
